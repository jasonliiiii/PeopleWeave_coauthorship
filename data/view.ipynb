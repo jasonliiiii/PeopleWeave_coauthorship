{
 "cells": [
  {
   "cell_type": "code",
   "execution_count": 1,
   "metadata": {},
   "outputs": [
    {
     "name": "stdout",
     "output_type": "stream",
     "text": [
      "['\\ufeff', 'Unnamed: 0', 'index', 'authors', 'metrics', 'abstracts', 'keywords', 'articleTitle', 'publicationTitle', 'publicationDate', 'articleNumber', 'doi', 'pdfLink', 'documentLink', 'citationCountPaper', 'citationCountPatent', 'totalDownloads', 'authorNames', 'keyword_tokens']\n"
     ]
    }
   ],
   "source": [
    "# Open the CSV file in read mode\n",
    "with open('former_works\\data\\data_IEEE_ky.csv', 'r') as file:\n",
    "    # Read the first line\n",
    "    first_line = file.readline().strip()\n",
    "\n",
    "# Split the line into column names\n",
    "column_names = first_line.split(',')\n",
    "\n",
    "# Print the column names\n",
    "print(column_names)"
   ]
  }
 ],
 "metadata": {
  "kernelspec": {
   "display_name": "peopleweave",
   "language": "python",
   "name": "python3"
  },
  "language_info": {
   "codemirror_mode": {
    "name": "ipython",
    "version": 3
   },
   "file_extension": ".py",
   "mimetype": "text/x-python",
   "name": "python",
   "nbconvert_exporter": "python",
   "pygments_lexer": "ipython3",
   "version": "3.8.18"
  }
 },
 "nbformat": 4,
 "nbformat_minor": 2
}
